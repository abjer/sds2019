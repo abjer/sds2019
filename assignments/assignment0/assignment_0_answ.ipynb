{
 "cells": [
  {
   "cell_type": "markdown",
   "metadata": {
    "deletable": false,
    "editable": false,
    "nbgrader": {
     "checksum": "67a6801857e041d9463a6a4a5652c523",
     "grade": false,
     "grade_id": "cell-fd924fa7f2d78b53",
     "locked": true,
     "schema_version": 1,
     "solution": false
    }
   },
   "source": [
    "# Assignment 0 \n",
    "\n",
    "**Practical information**\n",
    "* Handin no later than Sunday, **August 11th**.\n",
    "* You must work alone for this assignment.\n",
    "* We will host a workshop on **August 6th** where we cover the skills required to answer this problem set.\n",
    "* If you have questions, ask them at the workshop or in a github issue on the sds repository.\n",
    "\n",
    "This assignment is intended to ensure that you all know some basic python when you begin the summer school. We have included three different resources for learning python that you can use to learn the necessary skills for answering the questions. \n",
    "\n",
    "**A series of youtube videos:** [pythonprogramming.net fundamental](https://pythonprogramming.net/python-fundamental-tutorials/) (basics and intermediate)\n",
    "\n",
    "**A tutorial website:** [The official python 3 tutorial](https://docs.python.org/3/tutorial/introduction.html) (sections 3, 4 and 5)\n",
    "\n",
    "**A book:** [learn python the hard way](https://learnpythonthehardway.org/) \n",
    "\n",
    "You are free to pick from either of the above, or find your own ressources online. A very good (but perhaps slightly confusing) approach to learning anything programming related is to simply search google whenever you have a question, or cannot get your code to run. In 99% of the cases the first or second result will contain an answer to your question, and this saves you the time required to look for the right pages in a book, or the right tutorial on some website.\n",
    "\n",
    "\n",
    "## A quick note on using this notebook\n",
    "Below each problem you will find two code cells. The first one contains the line \n",
    "```python\n",
    "raise NotImplementedError()\n",
    "```\n",
    "Erase this line and implement your question here. The cell below contains a number of `assert` statements. These check if your answer is correct. Once you have answered a question you can run the assert block. If you answer is correct nothing will happen, as the assertions all pass. If your answer is incorrect the assertions will raise an `AssertionError` and you will get a bit of information about the possible source of your mistake."
   ]
  },
  {
   "cell_type": "markdown",
   "metadata": {
    "deletable": false,
    "editable": false,
    "nbgrader": {
     "checksum": "fb66c0c28a138ddda40e486d419d4cde",
     "grade": false,
     "grade_id": "cell-2636d222fbc214e6",
     "locked": true,
     "schema_version": 1,
     "solution": false
    }
   },
   "source": [
    "<br>\n",
    "<br>\n",
    "<br>\n",
    "<br>\n",
    "<br>\n",
    "<br>\n",
    "\n",
    "## Problem 0.1 - Build in types\n",
    "\n",
    "Python has a number of build in _types_. These are basic data structures, such as numbers, sequences of letters (aka strings) and data containers which are conceptually similar to vectors, which you know from math. In this problem you will get a little bit of experience working with the different data types. \n",
    "\n",
    "\n",
    "### Problem 0.1.1\n",
    "\n",
    "**Ex:** Add the two integers `9` and `2` and store the result in the variable named `answer_001`"
   ]
  },
  {
   "cell_type": "code",
   "execution_count": 1,
   "metadata": {
    "deletable": false,
    "nbgrader": {
     "checksum": "1ba21d3fda7cf5a3a577ba877e44d428",
     "grade": false,
     "grade_id": "problem_001",
     "locked": false,
     "schema_version": 1,
     "solution": true
    }
   },
   "outputs": [],
   "source": [
    "# answer_001 = \n",
    "\n",
    "# YOUR CODE HERE\n",
    "answer_001 = 9 + 2"
   ]
  },
  {
   "cell_type": "code",
   "execution_count": 2,
   "metadata": {
    "deletable": false,
    "editable": false,
    "nbgrader": {
     "checksum": "13e22f0c622d3d71631938e9d003021b",
     "grade": true,
     "grade_id": "problem_001_tests",
     "locked": true,
     "points": 1,
     "schema_version": 1,
     "solution": false
    }
   },
   "outputs": [],
   "source": [
    "assert answer_001 == 11"
   ]
  },
  {
   "cell_type": "markdown",
   "metadata": {
    "deletable": false,
    "editable": false,
    "nbgrader": {
     "checksum": "110e508d5491bea3d109d76d736f824e",
     "grade": false,
     "grade_id": "cell-d7489050408d6d9c",
     "locked": true,
     "schema_version": 1,
     "solution": false
    }
   },
   "source": [
    "### Problem 0.1.2\n",
    "Above you added two integers together, and got a result of `11`. Python separates numbers in two classes, the _integers_ $...,-1,0,1,2,...$ and the _floats_, which are an approximation of the real numbers $\\mathbb{R}$ (exactly how floats differ from reals is taught in introductory computer science courses).\n",
    "\n",
    "\n",
    "**Ex:** \n",
    "* Add `4.2` to `2`, store the result in the variable `answer_0021`\n",
    "* what is `0.33*10` in python? Store the result in the variable `answer_0022`\n",
    "\n",
    "> *Note:* the notebook will only print out the result of the last line in each cell."
   ]
  },
  {
   "cell_type": "code",
   "execution_count": 3,
   "metadata": {
    "deletable": false,
    "nbgrader": {
     "checksum": "c52229b7ed76daaffd6b3855b28dbac0",
     "grade": false,
     "grade_id": "problem_002",
     "locked": false,
     "schema_version": 1,
     "solution": true
    }
   },
   "outputs": [],
   "source": [
    "# answer_0021 = \n",
    "# answer_0022 =\n",
    "\n",
    "# YOUR CODE HERE\n",
    "answer_0021 = 4.2 + 2\n",
    "answer_0022 = 0.33*10\n"
   ]
  },
  {
   "cell_type": "code",
   "execution_count": 4,
   "metadata": {
    "deletable": false,
    "editable": false,
    "nbgrader": {
     "checksum": "5f5fc24d0930cc182a55e9a63bf0f1b2",
     "grade": true,
     "grade_id": "problem_002_tests",
     "locked": true,
     "points": 1,
     "schema_version": 1,
     "solution": false
    }
   },
   "outputs": [],
   "source": [
    "assert answer_0021 == 6.2\n",
    "assert answer_0022 == 0.33*10\n",
    "assert type(answer_0022) == float"
   ]
  },
  {
   "cell_type": "markdown",
   "metadata": {
    "deletable": false,
    "editable": false,
    "nbgrader": {
     "checksum": "295d1359b2bcded8c0b12f87954c559e",
     "grade": false,
     "grade_id": "cell-6224a256b92e3bca",
     "locked": true,
     "schema_version": 1,
     "solution": false
    }
   },
   "source": [
    "### Problem 0.1.3\n",
    "Python also has a build in data type called a _string_. This is simply a sequence of letters/characters and can thus contain names, sentences etc. To define a string in python, you need to wrap your sentence in either double or single quotation marks. For example you could write `\"Hello world!\"`. \n",
    "\n",
    "**Ex:**  In python the `+` is not only used for numbers. Use the `+` to add together the three strings `\"Social\"`, `\"Data\"` and `\"Science\"`. What is the result? Store it in a new variable called `answer_003`"
   ]
  },
  {
   "cell_type": "code",
   "execution_count": 5,
   "metadata": {
    "deletable": false,
    "nbgrader": {
     "checksum": "ff93d6d2ae89a844313a5a6aa3dcf0be",
     "grade": false,
     "grade_id": "problem_003",
     "locked": false,
     "schema_version": 1,
     "solution": true
    }
   },
   "outputs": [],
   "source": [
    "# answer_003 = \n",
    "\n",
    "# YOUR CODE HERE\n",
    "answer_003 = 'Social' + 'Data' + 'Science'"
   ]
  },
  {
   "cell_type": "code",
   "execution_count": 6,
   "metadata": {
    "deletable": false,
    "editable": false,
    "nbgrader": {
     "checksum": "88dcf5baae0f4bf125f17a24530421ae",
     "grade": true,
     "grade_id": "problem_003_tests",
     "locked": true,
     "points": 1,
     "schema_version": 1,
     "solution": false
    }
   },
   "outputs": [],
   "source": [
    "assert answer_003 == 'SocialDataScience'"
   ]
  },
  {
   "cell_type": "markdown",
   "metadata": {
    "deletable": false,
    "editable": false,
    "nbgrader": {
     "checksum": "2819fc287ddb7745f9d241489dd0e5dd",
     "grade": false,
     "grade_id": "cell-09cacd8a748a5277",
     "locked": true,
     "schema_version": 1,
     "solution": false
    }
   },
   "source": [
    "### Problem 0.1.4\n",
    "Now that you have seen all of the _elementary data types_ we will look at some _compound data types_. There are three of these, the _tuple_, the _list_ and the _dictionary_. \n",
    "\n",
    "* The _tuple_ is declared with round parentheses, e.g. `(1,2,3)` each element in the tuple is separated by a comma. One you have declared a tuple you cannot change it's content without making a copy of the tuple first (you will read that the tuple is an _immutable_ data type).\n",
    "\n",
    "\n",
    "* The _list_ is almost identical to the tuple. It is declared using square parentheses, e.g. `[1,2,3]`. Unlike the tuple, a list can be changed after definition, by adding, changing or removing elements. This is called a _mutable_ data type.\n",
    "\n",
    "\n",
    "* The _dictionary_ or simply _dict_ is also a mutable data type. Unlike the other data types the dict works like a lookup table, where each element of data stored in the dictionary is associated with a name. To look up an item in the dictionary you don't need to know its position in the dictionary, only its name. The dict is defined with curly braces and a colon to separate the name from the value, e.g. `{'name_of_first_entry': 1, 'name_of_second_entry: 2}`.\n",
    "\n",
    "**Ex:** Define the variable `y` as a list containing the elements `0, 4, 'a', 'g'`. Also define a variable `z` which is a tuple containing the same elements. Try to access the 0th element of `y` and the 1st element of `z`. Store these two values in the two variables `answer_004_y0` and `answer_004_z1`.\n",
    "\n",
    "> *Hint:* To access the _n_'th element of a list/tuple write `myData[n]`, for example `y[0]` gets the 0th element of `y`. "
   ]
  },
  {
   "cell_type": "code",
   "execution_count": 7,
   "metadata": {
    "deletable": false,
    "nbgrader": {
     "checksum": "91b16fa055f9d94957be3ae9f63de88c",
     "grade": false,
     "grade_id": "problem_004",
     "locked": false,
     "schema_version": 1,
     "solution": true
    }
   },
   "outputs": [],
   "source": [
    "# answer_004_y0 = \n",
    "# answer_004_z1 = \n",
    "\n",
    "# YOUR CODE HERE\n",
    "y = [0, 4, 'a', 'g']\n",
    "z = (0,4,'a','g')\n",
    "answer_004_y0 = y[0]\n",
    "answer_004_z1 = z[1]"
   ]
  },
  {
   "cell_type": "code",
   "execution_count": 8,
   "metadata": {
    "deletable": false,
    "editable": false,
    "nbgrader": {
     "checksum": "1458f786206098718b6d84dc1ea73fa2",
     "grade": true,
     "grade_id": "problem_004_tests",
     "locked": true,
     "points": 1,
     "schema_version": 1,
     "solution": false
    }
   },
   "outputs": [],
   "source": [
    "assert y == [0, 4, 'a', 'g']\n",
    "assert z == (0, 4, 'a', 'g')\n",
    "assert answer_004_y0 == 0\n",
    "assert answer_004_z1 == 4"
   ]
  },
  {
   "cell_type": "markdown",
   "metadata": {
    "deletable": false,
    "editable": false,
    "nbgrader": {
     "checksum": "b5176062dcdb2db0b03cdaef723c8236",
     "grade": false,
     "grade_id": "cell-3a6c8c745742a9ca",
     "locked": true,
     "schema_version": 1,
     "solution": false
    }
   },
   "source": [
    "<br>\n",
    "<br>\n",
    "<br>\n",
    "<br>\n",
    "<br>\n",
    "<br>\n",
    "\n",
    "## Problem 0.2 - Control flow\n",
    "_Control flow_ means writing code that controls the way data or information flows through the program. The concepts of control flow should be recognizable outside of coding as well. For example when you go shopping you might want to buy koldskål, but only **if** the kammerjunker are on sale. **else** you will buy icecream. These kinds of logic come up everywhere in coding; self driving cars should go forward only **if** the light is green, items should be listed for sale in a web shop only **if** they are in stock, stars should be put on the estimates **if** they are significant etc. \n",
    "\n",
    "Another kind of control flow deals with doing things repeatedly. For example dishes should be done **while** there are still dirty dishes to wash, **for** each student **in** social data science a grade should be given, etc.\n",
    "\n",
    "In this problem you will work with both kinds of control flow. You will not learn about `break` and `continue`, or about `try` and `except` which are also control flow statements. These are slightly more advanced, but it can be a good idea to look them up yourself. \n",
    "\n",
    "### Problem 0.2.1\n",
    "In python the if/else logic consists of three keywords: *if*, *elif* (else if) and *else*. The if and elif keywords should be followed by a logical statement that is either `True` or `False`. The code that should be executed `if` the logic is `True` is written on the lines below the `if`, and should be indented one TAB (or 4 spaces). Finally all control flow statements must end with a colon. \n",
    "\n",
    "**Ex:** Read the code in the cell below. When you run it you will be asked to supply a value of `x`. Supply a value of `x` that makes the code print \"Good job!\""
   ]
  },
  {
   "cell_type": "code",
   "execution_count": null,
   "metadata": {
    "deletable": false,
    "nbgrader": {
     "checksum": "f076063b1b6673a7cbf3468ed1872781",
     "grade": false,
     "grade_id": "problem_021",
     "locked": false,
     "schema_version": 1,
     "solution": true
    }
   },
   "outputs": [],
   "source": [
    "x = float(input(\"Please supply a value for x \"))\n",
    "\n",
    "if x < 5:\n",
    "    answer_021_sentinel = 0\n",
    "    print(\"x is too small\")\n",
    "\n",
    "elif x >= 5 and x < 8:\n",
    "    answer_021_sentinel = 1\n",
    "    print(\"Good job!\")\n",
    "\n",
    "else: \n",
    "    answer_021_sentinel = 0    \n",
    "    print(\"x is too large\")\n",
    "    \n",
    "    \n",
    "# YOUR CODE HERE"
   ]
  },
  {
   "cell_type": "code",
   "execution_count": null,
   "metadata": {
    "deletable": false,
    "editable": false,
    "nbgrader": {
     "checksum": "f249508b260a36009ee2d614b9cd702a",
     "grade": true,
     "grade_id": "problem_021_tests",
     "locked": true,
     "points": 1,
     "schema_version": 1,
     "solution": false
    }
   },
   "outputs": [],
   "source": [
    "assert answer_021_sentinel == 1"
   ]
  },
  {
   "cell_type": "markdown",
   "metadata": {
    "deletable": false,
    "editable": false,
    "nbgrader": {
     "checksum": "b89a4433726b21c0eba455e726b63bef",
     "grade": false,
     "grade_id": "cell-db5e2d27984bb8d9",
     "locked": true,
     "schema_version": 1,
     "solution": false
    }
   },
   "source": [
    "### Problem 0.2.2\n",
    "Above we used two different types of comparison: `>=` and `<`. To compare two values and check if they are equal python uses double equal signs `==` (remember a single = was used to assign values to a variable). \n",
    "\n",
    "**Ex:** The code below draws a random number between 0 and 1 and stores in the variable `randnum`. Write an if/else block that defines a new variable `answer_022` which is equal to 0 if `randnum <= 0.3` and is 1 if `randnum > 0.3`. That is write code that defines \n",
    "\n",
    "<br>\n",
    "$$\n",
    "\\text{answer_022} = \\begin{cases}\n",
    "0 \\text{  if } \\text{randnum} \\leq 0.3 \\\\\n",
    "1 \\text{  if } \\text{randnum} > 0.3\n",
    "\\end{cases}\n",
    "$$"
   ]
  },
  {
   "cell_type": "code",
   "execution_count": null,
   "metadata": {
    "deletable": false,
    "nbgrader": {
     "checksum": "3428d16adf6b5e1e1566fbee1802a616",
     "grade": false,
     "grade_id": "problem_022",
     "locked": false,
     "schema_version": 1,
     "solution": true
    }
   },
   "outputs": [],
   "source": [
    "import random\n",
    "randnum = random.uniform(0,1)\n",
    "\n",
    "# YOUR CODE HERE\n",
    "if randnum <= 0.3:\n",
    "    answer_022 = 0\n",
    "if randnum > 0.3:\n",
    "    answer_022 = 1\n",
    "else:\n",
    "    print(\"Out of bounds\")"
   ]
  },
  {
   "cell_type": "code",
   "execution_count": null,
   "metadata": {
    "deletable": false,
    "editable": false,
    "nbgrader": {
     "checksum": "ac7797f8f3ec53429c273a25b117dd08",
     "grade": true,
     "grade_id": "problem_022_tests",
     "locked": true,
     "points": 1,
     "schema_version": 1,
     "solution": false
    }
   },
   "outputs": [],
   "source": [
    "assert (answer_022 == 0 and randnum <= 0.3) or (answer_022 == 1 and randnum > 0.3)"
   ]
  },
  {
   "cell_type": "markdown",
   "metadata": {
    "deletable": false,
    "editable": false,
    "nbgrader": {
     "checksum": "9d3d72da9543025f4733a4632154bb86",
     "grade": false,
     "grade_id": "cell-c2c9e31aee205524",
     "locked": true,
     "schema_version": 1,
     "solution": false
    }
   },
   "source": [
    "### Problem 0.2.3\n",
    "\n",
    "control flow that does the same thing repeatedly is called a _loop_. In python you can loop through anything that is _iterable_, e.g. anything where it makes sense to say \"for each element in this item, do whatever.\" Lists, tuples and dictionaries are all iterable, and can thus be looped over. This kind of loop is called a _for loop_. The basic syntax is \n",
    "\n",
    "```python\n",
    "for element in SomeIterable:\n",
    "    dosomething(element)\n",
    "```\n",
    "where `element` is a temporary name given to the current element reached in the loop, and `dosomething()` can be any valid python code. \n",
    "\n",
    "**Ex:** Begin by initializing an emply list in the variable `answer_023` (simply write `answer_023=[]`). Then loop trough the list `y` that you defined in problem 1. For each element in `y`, append 3 times the element to `answer_023`. (You can finish off by showing the content of `answer_023` after the loop has run.)\n",
    "\n",
    "> *Hint:* To append data to a list you can write `answer_023.append(new_element)` where `new_element` is the new data that you want to append."
   ]
  },
  {
   "cell_type": "code",
   "execution_count": null,
   "metadata": {
    "deletable": false,
    "nbgrader": {
     "checksum": "4ce84a9aea2ebdf3b2c8d6a0917f9a23",
     "grade": false,
     "grade_id": "problem_023",
     "locked": false,
     "schema_version": 1,
     "solution": true
    }
   },
   "outputs": [],
   "source": [
    "# YOUR CODE HERE\n",
    "answer_023 = []\n",
    "iterations = 3\n",
    "for item in y:\n",
    "    current = item\n",
    "    iterations_performed = 1\n",
    "    while iterations > iterations_performed:\n",
    "        current = current + item\n",
    "        iterations_performed = iterations_performed + 1\n",
    "    answer_023.append(current)"
   ]
  },
  {
   "cell_type": "code",
   "execution_count": null,
   "metadata": {
    "deletable": false,
    "editable": false,
    "nbgrader": {
     "checksum": "86ae178cf6dd9c8b6f1bcf13a9db5c94",
     "grade": true,
     "grade_id": "problem_023_tests",
     "locked": true,
     "points": 1,
     "schema_version": 1,
     "solution": false
    }
   },
   "outputs": [],
   "source": [
    "assert answer_023 == [0, 12, 'aaa', 'ggg']"
   ]
  },
  {
   "cell_type": "markdown",
   "metadata": {
    "deletable": false,
    "editable": false,
    "nbgrader": {
     "checksum": "6550e6cf9fb312d6f77341daa33a2a44",
     "grade": false,
     "grade_id": "cell-1f8cb41fe8678a34",
     "locked": true,
     "schema_version": 1,
     "solution": false
    }
   },
   "source": [
    "### Problem 0.2.4\n",
    "There is only two kinds of loops in python. In addition to the for loop there is the _while loop_. Instead of looping over an iterable the `while` loop continues going as long as a supplied logical condition is True. Most commonly the while loop is combined with a counting variable that keeps track of how many times the loop has been run. The basic syntax is\n",
    "\n",
    "```python \n",
    "\n",
    "i = 0\n",
    "while i < 100:\n",
    "    dosomething()    \n",
    "    i = i + 1\n",
    "```\n",
    "This code will run 100 times before stopping. At each iteration it checks that `i` is smaller than 100. If it is, it does something and adds 1 to the variable `i` before repeating.\n",
    "\n",
    "**Ex:** Begin by defining an empty list named `answer_024`. Write a while loop that runs 1000 times from $i=0$ to $i=1000$. In each loop it should determine if the current value of `i` is a multiple of 27. If it is, append the number to the answer list `answer_024`. (recall that $i$ is divisible by $a$ if $i \\text{ mod } a = 0$. The modulo operator in python is `%`)\n",
    "> *Hint:* The `if` statement does not need to be followed by an `else`. You can simply code the `if` part and python will automatically skip it and continue if the logical condition is False.\n",
    ">\n",
    "> *Hint:* Remember to increment `i` in each iteration. Otherwise the program will run forever. If this happens press _kernel > interrupt_ in the menu bar. "
   ]
  },
  {
   "cell_type": "code",
   "execution_count": null,
   "metadata": {
    "deletable": false,
    "nbgrader": {
     "checksum": "406b57c201af12ab050f0616b4e5470b",
     "grade": false,
     "grade_id": "problem_024",
     "locked": false,
     "schema_version": 1,
     "solution": true
    }
   },
   "outputs": [],
   "source": [
    "i = 0\n",
    "answer_024 = []\n",
    "\n",
    "# YOUR CODE HERE\n",
    "while i < 1000:\n",
    "    if i%27 == 0:\n",
    "        answer_024.append(i)\n",
    "    i = i +1\n"
   ]
  },
  {
   "cell_type": "code",
   "execution_count": null,
   "metadata": {
    "deletable": false,
    "editable": false,
    "nbgrader": {
     "checksum": "b3ca00d09f5247b7235e17fe11e86e07",
     "grade": true,
     "grade_id": "problem_024_tests",
     "locked": true,
     "points": 1,
     "schema_version": 1,
     "solution": false
    }
   },
   "outputs": [],
   "source": [
    "assert answer_024 == [i for i in range(1000) if i % 27 == 0]"
   ]
  },
  {
   "cell_type": "markdown",
   "metadata": {
    "deletable": false,
    "editable": false,
    "nbgrader": {
     "checksum": "d33bde01a52dc27508b4ee286e230c90",
     "grade": false,
     "grade_id": "cell-ba371e3ff09605dc",
     "locked": true,
     "schema_version": 1,
     "solution": false
    }
   },
   "source": [
    "<br>\n",
    "<br>\n",
    "<br>\n",
    "<br>\n",
    "<br>\n",
    "<br>\n",
    "\n",
    "## Problem 0.3 - functions\n",
    "If you have never programmed in anything but statistical software such as Stata or SAS the concept of functions might be new to you. In python a function is simply a \"recipe\" that is first written, and then later used to compute something. Conceptually functions in programming are similar to functions in math. They have between $0$ and \"$\\infty$\" inputs, do some calculation using their inputs and then return between 1 and \"$\\infty$\" outputs. \n",
    "\n",
    "Python contains a large number of build-in functions. Below you are given examples of how to use the most commonly used build-ins. You should make yourself comfortable using each of the functions shown below."
   ]
  },
  {
   "cell_type": "code",
   "execution_count": null,
   "metadata": {},
   "outputs": [],
   "source": [
    "# Setup for the examples. We define two lists\n",
    "# to show you the build in functions.\n",
    "l1 = [0,10,20,30,40,50,60,70,80,90]\n",
    "l2 = ['a', 'b', 'c', 'd', 'e', 'f','g', 'h', 'i', 'j']"
   ]
  },
  {
   "cell_type": "code",
   "execution_count": null,
   "metadata": {},
   "outputs": [],
   "source": [
    "# The len(x) function gives you the length of the input\n",
    "len(l2)"
   ]
  },
  {
   "cell_type": "code",
   "execution_count": null,
   "metadata": {},
   "outputs": [],
   "source": [
    "# The abs(x) function returns the absolute value of x\n",
    "abs(-5)"
   ]
  },
  {
   "cell_type": "code",
   "execution_count": null,
   "metadata": {},
   "outputs": [],
   "source": [
    "# The min(x) and max(x) functions return the minimum\n",
    "# and maximum of the input.\n",
    "min(l1), max(l1)"
   ]
  },
  {
   "cell_type": "code",
   "execution_count": null,
   "metadata": {},
   "outputs": [],
   "source": [
    "# The map(function, Iterable) function applies the \n",
    "# supplied function to each element in Iterable:\n",
    "# (the list() call just converts the result to a list)\n",
    "list(\n",
    "    map(len, l2)\n",
    ")"
   ]
  },
  {
   "cell_type": "code",
   "execution_count": null,
   "metadata": {},
   "outputs": [],
   "source": [
    "# The range([start], stop, [step]) function returns \n",
    "# a range of numbers from `start` to `stop`, \n",
    "# in increments of `step`. The values in [] are \n",
    "# optional. If no start value is set, it defaults to 0.\n",
    "# If no step value is set it defaults to 1. A stop value\n",
    "# must always be set.\n",
    "\n",
    "print(\"Range from 0 to 100, step=1:\", range(100))\n",
    "print(\"Range from 0 to 100, step=2\", range(0, 100, 2))\n",
    "print(\"Range from 10 to 65, step=3\", range(10, 65, 3))"
   ]
  },
  {
   "cell_type": "code",
   "execution_count": null,
   "metadata": {},
   "outputs": [],
   "source": [
    "# The reversed(x) function reverses the input.\n",
    "# we can then loop trough it backwards\n",
    "l1_reverse = reversed(l1)\n",
    "\n",
    "for e in l1_reverse:\n",
    "    print(e)"
   ]
  },
  {
   "cell_type": "code",
   "execution_count": null,
   "metadata": {},
   "outputs": [],
   "source": [
    "# The enumerate(x) function returns the \n",
    "# index of the item as well as the item \n",
    "# itself in sequence. With it you can \n",
    "# loop through things while keeping track\n",
    "# of their position:\n",
    "l2_enumerate = enumerate(l2)\n",
    "\n",
    "for index, element in l2_enumerate:\n",
    "    print(index, element)"
   ]
  },
  {
   "cell_type": "code",
   "execution_count": null,
   "metadata": {},
   "outputs": [],
   "source": [
    "# The zip(x,y,...) function \"zips\" together two\n",
    "# or more iterables allowing you to loop through\n",
    "# them pairwise:\n",
    "\n",
    "l1l2_zip = zip(l1,l2)\n",
    "\n",
    "for e1, e2 in l1l2_zip:\n",
    "    print(e1, e2)\n"
   ]
  },
  {
   "cell_type": "markdown",
   "metadata": {
    "deletable": false,
    "editable": false,
    "nbgrader": {
     "checksum": "dbdb7d2839962f1987b81e8faea81595",
     "grade": false,
     "grade_id": "cell-02c957fd7a069935",
     "locked": true,
     "schema_version": 1,
     "solution": false
    }
   },
   "source": [
    "### Problem 0.3.1\n",
    "You can also write your own python functions. A python function is defined with the `def` keyword, followed by a user defined name of the function, the inputs to the function and a colon. On the following line the _function body_ is written, indented by one TAB. \n",
    "\n",
    "Functions use the keyword `return` to signal what values the function should return after doing its calculations on the inputs. \n",
    "\n",
    "For example we can define a function named `my_first_function` that takes two inputs `a` and `b`, computes the values $a^b$ (written in python as `a**b`) and $b^a$ and returns the larger of the two, in the following way:\n",
    "\n",
    "```python\n",
    "def my_first_function(a,b):\n",
    "    v1 = a**b\n",
    "    v2 = b**a\n",
    "    \n",
    "    if v1 > v2:\n",
    "        return v1\n",
    "    else:\n",
    "        return v2\n",
    "```\n",
    "\n",
    "**Ex:** Write a function called `average` that takes as input a list of numbers, and returns the average of the values in the list. Use your function to calculate the average of the values `[1,2,3,4,5,6,7,8,9]`. Store the result of this computation in a variable named `answer_031`."
   ]
  },
  {
   "cell_type": "code",
   "execution_count": null,
   "metadata": {
    "deletable": false,
    "nbgrader": {
     "checksum": "7cc52a90e7b14cfa62d2feb7cfd8a378",
     "grade": false,
     "grade_id": "problem_031",
     "locked": false,
     "schema_version": 1,
     "solution": true
    }
   },
   "outputs": [],
   "source": [
    "# answer_031 = \n",
    "\n",
    "# YOUR CODE HERE\n",
    "def average(numbers):\n",
    "    z_sum = 0\n",
    "    for element in numbers:\n",
    "        z_sum = z_sum + element\n",
    "    z_average = z_sum / len(numbers)\n",
    "    return z_average\n",
    "answer_031 = average([1,2,3,4,5,6,7,8,9])"
   ]
  },
  {
   "cell_type": "code",
   "execution_count": null,
   "metadata": {
    "deletable": false,
    "editable": false,
    "nbgrader": {
     "checksum": "a2f408a7ca869f10f4828ec97a0fabaa",
     "grade": true,
     "grade_id": "problem_031_tests",
     "locked": true,
     "points": 1,
     "schema_version": 1,
     "solution": false
    }
   },
   "outputs": [],
   "source": [
    "assert answer_031 == 5\n",
    "assert average([1,1]) == 1\n",
    "assert average([-2,2]) == 0\n",
    "assert average([1]) == 1"
   ]
  },
  {
   "cell_type": "markdown",
   "metadata": {
    "deletable": false,
    "editable": false,
    "nbgrader": {
     "checksum": "5862883b0580ac1910109bb7a9066348",
     "grade": false,
     "grade_id": "cell-46b866f1b7173c5a",
     "locked": true,
     "schema_version": 1,
     "solution": false
    }
   },
   "source": [
    "### Problem 0.3.2\n",
    "Recall that [Eulers constant](https://en.wikipedia.org/wiki/E_(mathematical_constant)) $e$ can be calculated as \n",
    "$$\n",
    "e=\\lim_{n\\rightarrow \\infty}\\left(1+\\frac{x}{n}\\right)^{n}\n",
    "$$\n",
    "of course we cannot compute the limit on a finite memory computer. Instead we can calculate approximations by taking $n$ large enough.\n",
    "\n",
    "**Ex:** write a function named `eulers_e` that takes two inputs `x` and `n`, calculates \n",
    "$$\n",
    "\\left(1+\\frac{x}{n}\\right)^{n}\n",
    "$$\n",
    "and returns this value. Use your function to calculate `eulers_e(1, 50)` and store this value in the variable `answer_032`."
   ]
  },
  {
   "cell_type": "code",
   "execution_count": null,
   "metadata": {
    "deletable": false,
    "nbgrader": {
     "checksum": "046b31ccde38324bf1bd4ccada88036d",
     "grade": false,
     "grade_id": "problem_032",
     "locked": false,
     "schema_version": 1,
     "solution": true
    }
   },
   "outputs": [],
   "source": [
    "# answer_032 = \n",
    "\n",
    "# YOUR CODE HERE\n",
    "def eulers_e(x,n):\n",
    "    return (1+(x/n))**n\n",
    "answer_032 = eulers_e(1,50)\n",
    "    "
   ]
  },
  {
   "cell_type": "code",
   "execution_count": null,
   "metadata": {
    "deletable": false,
    "editable": false,
    "nbgrader": {
     "checksum": "753cb245c3efa684a66aa32f67895038",
     "grade": true,
     "grade_id": "problem_032_tests",
     "locked": true,
     "points": 1,
     "schema_version": 1,
     "solution": false
    }
   },
   "outputs": [],
   "source": [
    "assert round(answer_032, 2) == 2.69\n",
    "assert eulers_e(1,1) == 2\n",
    "assert eulers_e(0,19) == 1\n",
    "assert round(eulers_e(1,1000), 2) == 2.72"
   ]
  },
  {
   "cell_type": "markdown",
   "metadata": {},
   "source": [
    "### Problem 0.3.3\n",
    "The inverse of the exponential is the [logarithm](https://en.wikipedia.org/wiki/Logarithm). Like the exponential function there are limit definitions of the logarithm. One of these is \n",
    "$$\n",
    "log(x) = 2 \\cdot \\sum_{k=0}^{\\infty} \\frac{1}{2k+1} \\left( \\frac{x-1}{x+1} \\right)^{2k+1}\n",
    "$$\n",
    "\n",
    "where $\\sum_{k=0}^{\\infty}$ signifies the sum of infinitely many elements, starting from $k=0$. Each element in the sum takes the value $\\frac{1}{2k+1} \\left( \\frac{x-1}{x+1} \\right)^{2k+1}$ for some $k$. As before we mus approximate this with a finite sum. \n",
    "\n",
    "**Ex:** define another function called `natural_logarithm` which takes two inputs `x` and `k_max`. In the function body calculate \n",
    "$$\n",
    "2 \\cdot \\sum_{k=0}^{k\\_max} \\frac{1}{2k+1} \\left( \\frac{x-1}{x+1} \\right)^{2k+1}\n",
    "$$\n",
    "and return this value. Use your function to calculate `natural_logarithm(2.71, 1000)`. Store this value in a variable named `answer_033`.\n",
    "\n",
    "> *Hint:* to calculate the sum, first initialize a value total = 0, and loop through $k\\in [0, k\\_max]$. Add the partial sum to your total in each step of the loop. After finalizing the loop you can then multiply the total by 2 and return the result."
   ]
  },
  {
   "cell_type": "code",
   "execution_count": null,
   "metadata": {
    "deletable": false,
    "nbgrader": {
     "checksum": "ebed6073f4ad355c0b494f94f2840c5f",
     "grade": false,
     "grade_id": "problem_033",
     "locked": false,
     "schema_version": 1,
     "solution": true
    }
   },
   "outputs": [],
   "source": [
    "# answer_033 = \n",
    "\n",
    "# YOUR CODE HERE\n",
    "def natural_logarithm(x, k_max):\n",
    "    sum_so_far = 0\n",
    "    k = 0\n",
    "    while k<k_max:\n",
    "        sum_so_far = sum_so_far + (1/(2*k+1))*(((x-1)/(x+1))**(2*k+1))\n",
    "        k = k+1\n",
    "    return (sum_so_far * 2)\n",
    "answer_033 = natural_logarithm(2.71, 1000)"
   ]
  },
  {
   "cell_type": "code",
   "execution_count": null,
   "metadata": {
    "deletable": false,
    "editable": false,
    "nbgrader": {
     "checksum": "28cbc492034d67d778852f828af67147",
     "grade": true,
     "grade_id": "problem_033_tests",
     "locked": true,
     "points": 1,
     "schema_version": 1,
     "solution": false
    }
   },
   "outputs": [],
   "source": [
    "assert round(answer_033) == 1\n",
    "assert natural_logarithm(1,1) == 0\n",
    "assert natural_logarithm(0,1) == -2\n",
    "assert natural_logarithm(1,100) == 0"
   ]
  },
  {
   "cell_type": "markdown",
   "metadata": {
    "deletable": false,
    "editable": false,
    "nbgrader": {
     "checksum": "75c030d809c14f52ae31bcbc0f397e13",
     "grade": false,
     "grade_id": "cell-6895f816baccdc17",
     "locked": true,
     "schema_version": 1,
     "solution": false
    }
   },
   "source": [
    "### Problem 0.3.4\n",
    "Just like numbers, strings and data types, python treats functions as an object. This means you can write functions, that take a function as input and functions that return functions after being executed. This is sometimes a useful tool to have when you need to add extra functionality to an already existing function, or if you need to write _function factories_.\n",
    "\n",
    "**Ex:** Write a function called `exponentiate` that takes one input named `func`. In the body of `exponentiate` define a nested function (i.e. a function within a function) called `with_exp` that takes two inputs `x` and `k`. The nested function should return `func(e, k)` where `e=eulers_e(x, k)`. The outer function should return the nested function `with_exp`, i.e. write something like\n",
    "\n",
    "```python\n",
    "def exponentiate(func):\n",
    "    def with_exp(x, k):\n",
    "        e = eulers_e(x, k)\n",
    "        value = #[FILL IN]\n",
    "        return value\n",
    "    return with_exp\n",
    "```\n",
    "\n",
    "Call the `exponentiate` function on `natural_logarithm` and store the result in a new variable called `logexp`. Then call `logexp(1, 1000)` and store this value in the variable `answer_034`."
   ]
  },
  {
   "cell_type": "code",
   "execution_count": null,
   "metadata": {
    "deletable": false,
    "nbgrader": {
     "checksum": "1f3f15b2cb2fcd374b2fc5ba7d33f880",
     "grade": false,
     "grade_id": "problem_034",
     "locked": false,
     "schema_version": 1,
     "solution": true
    }
   },
   "outputs": [],
   "source": [
    "# logexp = \n",
    "# answer_034 = \n",
    "\n",
    "# YOUR CODE HERE\n",
    "def exponentiate(func):\n",
    "    def with_exp(x, k):\n",
    "        e = eulers_e(x, k)\n",
    "        value = func(e, k)\n",
    "        return value\n",
    "    return with_exp\n",
    "logexp = exponentiate(natural_logarithm)\n",
    "answer_034 = logexp(1,1000)"
   ]
  },
  {
   "cell_type": "code",
   "execution_count": null,
   "metadata": {
    "deletable": false,
    "editable": false,
    "nbgrader": {
     "checksum": "d19bc4ce0d41e054caa8a791314fe6b0",
     "grade": true,
     "grade_id": "cell-4d43e938f5e89487",
     "locked": true,
     "points": 1,
     "schema_version": 1,
     "solution": false
    }
   },
   "outputs": [],
   "source": [
    "assert round(answer_034) == 1\n",
    "assert round(logexp(2, 1000)) == 2\n",
    "assert round(logexp(3, 1000)) == 3\n",
    "assert round(logexp(4, 1000)) == 4"
   ]
  },
  {
   "cell_type": "code",
   "execution_count": null,
   "metadata": {},
   "outputs": [],
   "source": []
  },
  {
   "cell_type": "code",
   "execution_count": null,
   "metadata": {},
   "outputs": [],
   "source": []
  },
  {
   "cell_type": "code",
   "execution_count": null,
   "metadata": {},
   "outputs": [],
   "source": []
  },
  {
   "cell_type": "code",
   "execution_count": null,
   "metadata": {},
   "outputs": [],
   "source": []
  },
  {
   "cell_type": "code",
   "execution_count": null,
   "metadata": {},
   "outputs": [],
   "source": []
  },
  {
   "cell_type": "code",
   "execution_count": null,
   "metadata": {},
   "outputs": [],
   "source": []
  },
  {
   "cell_type": "code",
   "execution_count": null,
   "metadata": {},
   "outputs": [],
   "source": []
  }
 ],
 "metadata": {
  "kernelspec": {
   "display_name": "Python 3",
   "language": "python",
   "name": "python3"
  },
  "language_info": {
   "codemirror_mode": {
    "name": "ipython",
    "version": 3
   },
   "file_extension": ".py",
   "mimetype": "text/x-python",
   "name": "python",
   "nbconvert_exporter": "python",
   "pygments_lexer": "ipython3",
   "version": "3.7.3"
  }
 },
 "nbformat": 4,
 "nbformat_minor": 2
}
