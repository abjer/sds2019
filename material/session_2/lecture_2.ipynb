{
 "cells": [
  {
   "cell_type": "markdown",
   "metadata": {
    "slideshow": {
     "slide_type": "slide"
    }
   },
   "source": [
    "# Session 2: \n",
    "\n",
    "## Git and Markdown \n",
    "*Andreas Bjerre-Nielsen*"
   ]
  },
  {
   "cell_type": "markdown",
   "metadata": {
    "slideshow": {
     "slide_type": "slide"
    }
   },
   "source": [
    "# Agenda\n",
    "- In this session we will get some useful tools to conduct research. \n",
    "\n",
    "- `Git` is a version control system\n",
    "    - It is useful when several people are colaborating on the same code. \n",
    "    - Today: Motivation for trying Git\n",
    "\n",
    "- `Markdown` which is an easy to use text operator. \n",
    "    - Start using Markdown "
   ]
  },
  {
   "cell_type": "markdown",
   "metadata": {
    "slideshow": {
     "slide_type": "slide"
    }
   },
   "source": [
    "# Git: Version control"
   ]
  },
  {
   "cell_type": "markdown",
   "metadata": {
    "slideshow": {
     "slide_type": "slide"
    }
   },
   "source": [
    "## Why version control: Track of files/code"
   ]
  },
  {
   "cell_type": "markdown",
   "metadata": {
    "slideshow": {
     "slide_type": "slide"
    }
   },
   "source": [
    "### Without git\n",
    "<img src=\"https://raw.githubusercontent.com/abjer/sds2017/master/slides/figures/nogit.jpg\" style=\"margin: 0 0 -400px 0\" alt=\"Donald Duck\">\n",
    " "
   ]
  },
  {
   "cell_type": "markdown",
   "metadata": {
    "slideshow": {
     "slide_type": "slide"
    }
   },
   "source": [
    "### With Git\n",
    "![](https://raw.githubusercontent.com/abjer/sds2017/master/slides/figures/git.jpg)"
   ]
  },
  {
   "cell_type": "markdown",
   "metadata": {
    "slideshow": {
     "slide_type": "slide"
    }
   },
   "source": [
    "## What Dropbox/Google Drive etc. does\n",
    "\n",
    "Synchronize folder (including subfolders)\n",
    "- All changes are synchronized continuously (no choice)\n",
    "- If shared you keep the latest copy (one month reversion)"
   ]
  },
  {
   "cell_type": "markdown",
   "metadata": {
    "slideshow": {
     "slide_type": "slide"
    }
   },
   "source": [
    "## What Git does\n",
    "\n",
    "- Keeps a log of the entire history of changes to files. \n",
    "- You can decide **what** and **when** to put in this log.\n",
    "- You can syncronize the log\n",
    "    - in a centralized place, e.g. GitHub (which can be public or private).\n",
    "    - in a decentralized place, e.g. your servers, your computer\n",
    "- Others can see **who** contributed from this log."
   ]
  },
  {
   "cell_type": "markdown",
   "metadata": {
    "slideshow": {
     "slide_type": "slide"
    }
   },
   "source": [
    "## Why is Git useful\n",
    "\n",
    "Can scale to many people as it solves:\n",
    "- Handling of confliced copies \n",
    "- Only keep relevant changes (removes clutter)\n",
    "- You can revert changes that are very old! (eternal memory)\n",
    "- Clear attribution of work (who contributed what)\n",
    "- Less use for space as only relevant changes are saved"
   ]
  },
  {
   "cell_type": "markdown",
   "metadata": {
    "slideshow": {
     "slide_type": "slide"
    }
   },
   "source": [
    "## Vocabulary\n",
    "\n",
    "\n",
    "- Git: Git is an open source command line program for version control.\n",
    "- Repository: the location where your files are stored\n",
    "- GitHub: Company/web services that hosts Git repositories and enables 'social coding'\n",
    "- Clone: copy another repositiry to a new location (e.g. from GitHub to your PC)\n",
    "- Pull: to download the newest version of a repository\n",
    "- Push: push the changes you have made, to the repository"
   ]
  },
  {
   "cell_type": "markdown",
   "metadata": {
    "slideshow": {
     "slide_type": "slide"
    }
   },
   "source": [
    "## Alternatives \n",
    "\n",
    "*GitHub for Mac/Windows*\n",
    "- A point and click version of Git.\n",
    "\n",
    "*Google's [Colab](https://colab.research.google.com/notebooks/welcome.ipynb)* \n",
    "- Is a combination of Google Docs and Jupyter Notebook. \n",
    "- Plug and play: is an easy to use, less flexible, alternative. "
   ]
  },
  {
   "cell_type": "markdown",
   "metadata": {
    "slideshow": {
     "slide_type": "slide"
    }
   },
   "source": [
    "# Markdown              "
   ]
  },
  {
   "cell_type": "markdown",
   "metadata": {
    "slideshow": {
     "slide_type": "slide"
    }
   },
   "source": [
    "## Overview\n",
    "                       \n",
    "                        \n",
    "- Markdown is an easy to use text editor\n",
    "    - WYSIWYG (What you see is what you get)\n",
    "    - Used in Jupyter Notebook\n",
    "    - Can be used to make Homepages (SDS) or slideshows (like this one)\n",
    "    \n",
    "- Basic functionalities in Markdown\n",
    "- You try in the exercises"
   ]
  },
  {
   "cell_type": "markdown",
   "metadata": {
    "slideshow": {
     "slide_type": "slide"
    }
   },
   "source": [
    "# Headlines\n",
    "\n",
    "\\# This will be the headline    \n",
    "\\#\\# This will be the sub headline  \n",
    "\\#\\#\\# And so on \n",
    "\n",
    "---------------------\n",
    "\n",
    "# This will be the headline\n",
    "## This will be the sub headline\n",
    "### And so on\n"
   ]
  },
  {
   "cell_type": "markdown",
   "metadata": {
    "slideshow": {
     "slide_type": "slide"
    }
   },
   "source": [
    "# Bold and italics\n",
    "\n",
    "- \\*\\*Text in bold\\*\\* ->  **Text in bold**\n",
    "\n",
    "- \\*Text in italics\\* -> *Text in italics* \n",
    "\n",
    "\\> This text will be indented \n",
    "> This text will be indented \n"
   ]
  },
  {
   "cell_type": "markdown",
   "metadata": {
    "slideshow": {
     "slide_type": "slide"
    }
   },
   "source": [
    "# Lists\n",
    "\n",
    "``` \n",
    "- fruits \n",
    "    - apples\n",
    "        - macintosh\n",
    "        - red delicious\n",
    "    - pears \n",
    "    - peaches\n",
    "- vegetables\n",
    "    - broccoli\n",
    "    - chard \n",
    "    ```"
   ]
  },
  {
   "cell_type": "markdown",
   "metadata": {
    "slideshow": {
     "slide_type": "slide"
    }
   },
   "source": [
    "# ... gives you this list\n",
    "- fruits \n",
    "    - apples\n",
    "        - macintosh\n",
    "        - red delicious\n",
    "    - pears \n",
    "    - peaches\n",
    "- vegetables\n",
    "    - broccoli\n",
    "    - chard"
   ]
  },
  {
   "cell_type": "markdown",
   "metadata": {
    "slideshow": {
     "slide_type": "slide"
    }
   },
   "source": [
    "# Links\n",
    "\n",
    "This is how you insert a link `[name of link](URL)` \n",
    "```\n",
    "The subreddit [DataIsBeautiful](https://www.reddit.com/r/dataisbeautiful/) loves data\n",
    "```\n",
    "\n",
    "-> \n",
    "\n",
    "The subreddit [DataIsBeautiful](https://www.reddit.com/r/dataisbeautiful/) loves data"
   ]
  },
  {
   "cell_type": "markdown",
   "metadata": {
    "slideshow": {
     "slide_type": "slide"
    }
   },
   "source": [
    "# Images\n",
    "It is almost the same, to insert an image `![](URL)`\n",
    "\n",
    "```\n",
    "This is a cat ![](https://upload.wikimedia.org/wikipedia/commons/a/a2/Cat_Golden_Chinchilla.jpg)\n",
    "```\n",
    "\n",
    "This is a cat ![](https://upload.wikimedia.org/wikipedia/commons/a/a2/Cat_Golden_Chinchilla.jpg)"
   ]
  },
  {
   "cell_type": "markdown",
   "metadata": {
    "slideshow": {
     "slide_type": "slide"
    }
   },
   "source": [
    "# The end\n",
    "[Return to agenda](#Agenda)"
   ]
  }
 ],
 "metadata": {
  "celltoolbar": "Slideshow",
  "kernelspec": {
   "display_name": "Python 3",
   "language": "python",
   "name": "python3"
  },
  "language_info": {
   "codemirror_mode": {
    "name": "ipython",
    "version": 3
   },
   "file_extension": ".py",
   "mimetype": "text/x-python",
   "name": "python",
   "nbconvert_exporter": "python",
   "pygments_lexer": "ipython3",
   "version": "3.7.3"
  }
 },
 "nbformat": 4,
 "nbformat_minor": 2
}
