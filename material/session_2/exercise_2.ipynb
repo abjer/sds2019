{
 "cells": [
  {
   "cell_type": "markdown",
   "metadata": {},
   "source": [
    "# Exercise set 2: My first Markdown\n",
    "*Afternoon, August 12, 2019*   \n",
    "\n",
    "Markdown is easy to access and very flexible. This page contains some basic features in Markdown, which will get you a long way.\n",
    "\n",
    "If you are having problems during the exercise go Google or try this [Markdown Cheatsheet](https://github.com/adam-p/markdown-here/wiki/Markdown-Cheatsheet)\n"
   ]
  },
  {
   "cell_type": "markdown",
   "metadata": {},
   "source": [
    "### Change to Markdown\n",
    "> **Ex. 2.1**: The cell below is marked as Code. Change it to a Markdown cell, and run it to see how it looks."
   ]
  },
  {
   "cell_type": "code",
   "execution_count": null,
   "metadata": {},
   "outputs": [],
   "source": [
    "## Headings and preview\n",
    "Make headings by using the hash #. One for first heading, two for second ect.\n",
    "\n",
    "To see how your output will look, run the cell `Ctrl + Enter`"
   ]
  },
  {
   "cell_type": "markdown",
   "metadata": {},
   "source": [
    "### Make lists\n",
    "> **Ex. 2.2**: Make two lists. The first should be numbered. The second should be unnumbered and contain at least one sublevel. "
   ]
  },
  {
   "cell_type": "markdown",
   "metadata": {},
   "source": [
    "Answer Ex.2.2 HERE: "
   ]
  },
  {
   "cell_type": "markdown",
   "metadata": {},
   "source": [
    "### Bold, italics, indented text\n",
    "\n",
    "> **Ex. 2.3**: Write some text that has both *italics*, **bold**, and `quoted` text. Also make a blockquoted using `>`"
   ]
  },
  {
   "cell_type": "markdown",
   "metadata": {},
   "source": [
    "Answer Ex.2.3 HERE: "
   ]
  },
  {
   "cell_type": "markdown",
   "metadata": {},
   "source": [
    "### Links and images\n",
    "> **Ex.2.4**: Insert this link (http://www.nyan.cat/), with the text \"Relaxing cat video\".    \n",
    "Insert this image (http://m.memegen.com/a0t2cx.jpg)"
   ]
  },
  {
   "cell_type": "markdown",
   "metadata": {},
   "source": [
    "Answer Ex.2.4 HERE: "
   ]
  },
  {
   "cell_type": "markdown",
   "metadata": {},
   "source": [
    "### Bonus: Make a table\n",
    "> **Ex. 2.5 (bonus)**: Make a table containing Food = Eggs, Bacon, Bread and Price = 4.95 kr., 22.50 kr. and 15.00 kr. "
   ]
  },
  {
   "cell_type": "markdown",
   "metadata": {},
   "source": [
    "Answer Ex.2.5 HERE:"
   ]
  },
  {
   "cell_type": "markdown",
   "metadata": {},
   "source": [
    "### Bonus: Make math\n",
    "\n",
    "Use Markdown to write up the OLS-estimator:\n",
    "\n",
    "![](https://wikimedia.org/api/rest_v1/media/math/render/svg/46cf247a57b181c36165a0b6ae5ede6bdc1a24a3)\n",
    "\n",
    "*Hint: Start and end with `$`*, and try your way forward"
   ]
  },
  {
   "cell_type": "markdown",
   "metadata": {},
   "source": [
    "Answer Ex.2.6 HERE:"
   ]
  }
 ],
 "metadata": {
  "kernelspec": {
   "display_name": "Python 3",
   "language": "python",
   "name": "python3"
  },
  "language_info": {
   "codemirror_mode": {
    "name": "ipython",
    "version": 3
   },
   "file_extension": ".py",
   "mimetype": "text/x-python",
   "name": "python",
   "nbconvert_exporter": "python",
   "pygments_lexer": "ipython3",
   "version": "3.7.3"
  }
 },
 "nbformat": 4,
 "nbformat_minor": 2
}
